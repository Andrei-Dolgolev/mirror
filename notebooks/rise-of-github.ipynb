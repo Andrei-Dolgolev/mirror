{
 "cells": [
  {
   "cell_type": "markdown",
   "metadata": {},
   "source": [
    "# The Rise of GitHub\n",
    "\n",
    "GitHub has become the dominant channel that development teams use to collaborate on code. Wikipedia's [Timeline of GitHub](https://en.wikipedia.org/wiki/Timeline_of_GitHub) documents GitHub's rise to dominance as a *business*. We will use a `mirror` crawl to analyze GitHub's rise as a *platform*."
   ]
  },
  {
   "cell_type": "markdown",
   "metadata": {},
   "source": [
    "## Dataset\n",
    "\n",
    "Any analysis must start with data. The dataset we use here are the results of a crawl of public GitHub repositories conducted using [`mirror`](https://github.com/simiotics/mirror).\n",
    "\n",
    "You can build the same dataset by using `mirror github crawl` to build up the raw dataset of basic repository information and then `mirror github sync` to create a SQLite database of the type used in this notebook.\n",
    "\n",
    "If you do create your own dataset, change the variable below to point at the SQLite database you generate."
   ]
  },
  {
   "cell_type": "code",
   "execution_count": 172,
   "metadata": {},
   "outputs": [],
   "source": [
    "from datetime import datetime\n",
    "import json\n",
    "import math\n",
    "import os\n",
    "\n",
    "%matplotlib notebook\n",
    "%matplotlib inline\n",
    "import matplotlib.pyplot as plt\n",
    "import matplotlib.dates as mdates\n",
    "\n",
    "from tqdm import tqdm\n",
    "\n",
    "import requests"
   ]
  },
  {
   "cell_type": "code",
   "execution_count": 2,
   "metadata": {},
   "outputs": [],
   "source": [
    "GITHUB_SQLITE = os.path.expanduser('~/data/mirror/github.sqlite')"
   ]
  },
  {
   "cell_type": "markdown",
   "metadata": {},
   "source": [
    "Let us explore the structure dataset before we dive into our analysis.\n",
    "\n",
    "Basic repository metadata (extracted by crawling the GitHub [`/repositories`](https://developer.github.com/v3/repos/#list-all-public-repositories) endpoint) is stored in the `repositories` table of this database. This is its schema:"
   ]
  },
  {
   "cell_type": "code",
   "execution_count": 3,
   "metadata": {},
   "outputs": [],
   "source": [
    "import sqlite3"
   ]
  },
  {
   "cell_type": "code",
   "execution_count": 4,
   "metadata": {},
   "outputs": [],
   "source": [
    "conn = sqlite3.connect(GITHUB_SQLITE)\n",
    "c = conn.cursor()"
   ]
  },
  {
   "cell_type": "code",
   "execution_count": 5,
   "metadata": {},
   "outputs": [],
   "source": [
    "r = c.execute('select sql from sqlite_master where name=\"repositories\";')"
   ]
  },
  {
   "cell_type": "code",
   "execution_count": 6,
   "metadata": {},
   "outputs": [],
   "source": [
    "repositories_schema = r.fetchone()[0]"
   ]
  },
  {
   "cell_type": "code",
   "execution_count": 7,
   "metadata": {
    "scrolled": true
   },
   "outputs": [
    {
     "name": "stdout",
     "output_type": "stream",
     "text": [
      "CREATE TABLE repositories (\n",
      "        github_id UNSIGNED BIG INT,\n",
      "        full_name TEXT NOT NULL,\n",
      "        owner TEXT NOT NULL,\n",
      "        html_url TEXT NOT NULL,\n",
      "        api_url TEXT NOT NULL,\n",
      "        is_fork BOOLEAN\n",
      "    )\n"
     ]
    }
   ],
   "source": [
    "print(repositories_schema)"
   ]
  },
  {
   "cell_type": "markdown",
   "metadata": {},
   "source": [
    "These columns do not provide comprehensive repository information, but they already allow us to understand some interesting things.\n",
    "\n",
    "To speed up these preliminary analyses, since `mirror` does not automatically create indices in the database, let us create some of our own:"
   ]
  },
  {
   "cell_type": "markdown",
   "metadata": {},
   "source": [
    "### Number of public repositories on GitHub"
   ]
  },
  {
   "cell_type": "code",
   "execution_count": 8,
   "metadata": {},
   "outputs": [
    {
     "name": "stdout",
     "output_type": "stream",
     "text": [
      "128411417\n"
     ]
    }
   ],
   "source": [
    "r = c.execute('select count(*) from repositories;')\n",
    "result = r.fetchone()\n",
    "print(result[0])"
   ]
  },
  {
   "cell_type": "markdown",
   "metadata": {},
   "source": [
    "### Proportion of repositories that are forks"
   ]
  },
  {
   "cell_type": "code",
   "execution_count": 51,
   "metadata": {},
   "outputs": [
    {
     "name": "stderr",
     "output_type": "stream",
     "text": [
      "128411417it [01:26, 1484015.10it/s]"
     ]
    },
    {
     "name": "stdout",
     "output_type": "stream",
     "text": [
      "Proportion of repositories that are forks: 0.41683523358363067\n"
     ]
    },
    {
     "name": "stderr",
     "output_type": "stream",
     "text": [
      "\n"
     ]
    }
   ],
   "source": [
    "results = c.execute('select is_fork from repositories;')\n",
    "total = 0\n",
    "forks = 0\n",
    "for row in tqdm(results):\n",
    "    total += 1\n",
    "    forks += (row[0] == 1)\n",
    "\n",
    "print('Proportion of repositories that are forks:', forks/total)"
   ]
  },
  {
   "cell_type": "markdown",
   "metadata": {},
   "source": [
    "### Number of users who have created public repositories"
   ]
  },
  {
   "cell_type": "code",
   "execution_count": 10,
   "metadata": {},
   "outputs": [
    {
     "name": "stderr",
     "output_type": "stream",
     "text": [
      "128411417it [02:36, 822352.26it/s]"
     ]
    },
    {
     "name": "stdout",
     "output_type": "stream",
     "text": [
      "Number of users who have created public repositories: 23298697\n"
     ]
    },
    {
     "name": "stderr",
     "output_type": "stream",
     "text": [
      "\n"
     ]
    }
   ],
   "source": [
    "results = c.execute('select owner from repositories;')\n",
    "owners = set([])\n",
    "for row in tqdm(results):\n",
    "    owners.add(row[0])\n",
    "\n",
    "print('Number of users who have created public repositories:', len(owners))"
   ]
  },
  {
   "cell_type": "code",
   "execution_count": 11,
   "metadata": {},
   "outputs": [],
   "source": [
    "# The owners set takes over a gigabyte of memory on only the first full crawl.\n",
    "# Better to free this memory up.\n",
    "del owners"
   ]
  },
  {
   "cell_type": "markdown",
   "metadata": {},
   "source": [
    "## Rise\n",
    "\n",
    "The basic repository metadata that GitHub's `/repositories` endpoint provides does not give any information about when a repository was created. We will rely on the [`/repos`](https://developer.github.com/v3/repos/#get) endpoint.\n",
    "\n",
    "The `api_url` column of the Mirror crawl `repositories` table conveniently populates the endpoint URL with repository information, so we will use this column."
   ]
  },
  {
   "cell_type": "markdown",
   "metadata": {},
   "source": [
    "### Sampling\n",
    "\n",
    "We have to make GitHub API calls to retrieve creation time information for repositories in our dataset. With over 120 million repositories in the dataset and with a rate limit of 5000 requests per hour (authenticated) to the GitHub API, it would take a long time to collect the creation time for every repository in our database. We will have to sample.\n",
    "\n",
    "For sampling, we use the following parameters:\n",
    "+ `NUM_SAMPLES` - Number of total repositories that should be sampled for creation time analysis\n",
    "+ `GITHUB_TOKEN_FILE` - File containing the token for authentication against the GitHub API ([instructions](https://github.com/settings/tokens) to create an API token)"
   ]
  },
  {
   "cell_type": "code",
   "execution_count": 24,
   "metadata": {},
   "outputs": [],
   "source": [
    "NUM_SAMPLES = 500\n",
    "headers = {}\n",
    "# Comment the following lines out if you do not want to make authenticated calls against the GitHub API\n",
    "# If you do authenticate, make sure that the path below points at a file with your token.\n",
    "GITHUB_TOKEN_FILE = os.path.expanduser('~/.secrets/github-mirror.txt')\n",
    "with open(GITHUB_TOKEN_FILE, 'r') as ifp:\n",
    "    GITHUB_TOKEN = ifp.read().strip()\n",
    "    headers['Authorization'] = f'token {GITHUB_TOKEN}'"
   ]
  },
  {
   "cell_type": "code",
   "execution_count": 18,
   "metadata": {},
   "outputs": [],
   "source": [
    "gap = int(total/NUM_SAMPLES)"
   ]
  },
  {
   "cell_type": "code",
   "execution_count": 22,
   "metadata": {},
   "outputs": [
    {
     "name": "stderr",
     "output_type": "stream",
     "text": [
      "128411417it [02:01, 1056401.35it/s]\n"
     ]
    }
   ],
   "source": [
    "results = c.execute('select github_id, api_url from repositories;')\n",
    "sample = []\n",
    "for i, row in tqdm(enumerate(results)):\n",
    "    if i % gap == 0:\n",
    "        sample.append((i, row[0], row[1]))"
   ]
  },
  {
   "cell_type": "code",
   "execution_count": 21,
   "metadata": {},
   "outputs": [
    {
     "data": {
      "text/plain": [
       "500"
      ]
     },
     "execution_count": 21,
     "metadata": {},
     "output_type": "execute_result"
    }
   ],
   "source": [
    "len(sample)"
   ]
  },
  {
   "cell_type": "code",
   "execution_count": 28,
   "metadata": {},
   "outputs": [],
   "source": [
    "sample_metadata = []\n",
    "for i, github_id, api_url in tqdm(sample):\n",
    "    response = requests.get(api_url, headers=headers)\n",
    "    entry = {\n",
    "        'position': i,\n",
    "        'github_id': github_id,\n",
    "        'repository': response.json(),\n",
    "    }\n",
    "    sample_metadata.append(entry)"
   ]
  },
  {
   "cell_type": "code",
   "execution_count": 32,
   "metadata": {},
   "outputs": [],
   "source": [
    "SAMPLE_METADATA_FILE = os.path.expanduser('~/data/mirror/rise-of-github-sample.jsonl')\n",
    "with open(SAMPLE_METADATA_FILE, 'w') as ofp:\n",
    "    for entry in sample_metadata:\n",
    "        print(json.dumps(entry), file=ofp)"
   ]
  },
  {
   "cell_type": "markdown",
   "metadata": {},
   "source": [
    "This file is available as a Gist. [Download here](https://gist.github.com/nkashy1/c4ca78c5d6c2c2da2b03b4a730f6e194)."
   ]
  },
  {
   "cell_type": "markdown",
   "metadata": {},
   "source": [
    "### Analysis\n",
    "\n",
    "The sample repository metadata is the subject of this analysis, with the goal of building a simple histogram to visualize the growth of GitHub as a platform.\n",
    "\n",
    "Some of the repositories have bad metadata - either because the repository has been deleted or because access to repository metadata has been blocked. We define \"bad\" metadata by metadata that doesn't have a `created_at` key. Let us count how many such repositories there are:"
   ]
  },
  {
   "cell_type": "code",
   "execution_count": 49,
   "metadata": {},
   "outputs": [
    {
     "name": "stderr",
     "output_type": "stream",
     "text": [
      "100%|██████████| 500/500 [00:00<00:00, 626951.27it/s]"
     ]
    },
    {
     "name": "stdout",
     "output_type": "stream",
     "text": [
      "19\n"
     ]
    },
    {
     "name": "stderr",
     "output_type": "stream",
     "text": [
      "\n"
     ]
    }
   ],
   "source": [
    "num_bad = 0\n",
    "for entry in tqdm(sample_metadata):\n",
    "    try:\n",
    "        entry.get('repository', {})['created_at']\n",
    "    except KeyError:\n",
    "        num_bad += 1\n",
    "\n",
    "print(num_bad)"
   ]
  },
  {
   "cell_type": "markdown",
   "metadata": {},
   "source": [
    "That still gives us enough samples to build a meaningful histogram out of, if we first filter out the `valid_sample_metadata`:"
   ]
  },
  {
   "cell_type": "code",
   "execution_count": 50,
   "metadata": {},
   "outputs": [
    {
     "data": {
      "text/plain": [
       "481"
      ]
     },
     "execution_count": 50,
     "metadata": {},
     "output_type": "execute_result"
    }
   ],
   "source": [
    "valid_sample_metadata = [entry for entry in sample_metadata if entry.get('repository', {}).get('created_at') is not None]\n",
    "len(valid_sample_metadata)"
   ]
  },
  {
   "cell_type": "markdown",
   "metadata": {},
   "source": [
    "Conveniently, the results of the Mirror crawl are sorted. This allows us to count the number of repositories created between samples by simply taking a difference of the `position` keys in `sample_metadata`."
   ]
  },
  {
   "cell_type": "code",
   "execution_count": 181,
   "metadata": {},
   "outputs": [
    {
     "name": "stderr",
     "output_type": "stream",
     "text": [
      "480it [00:00, 62896.87it/s]\n"
     ]
    }
   ],
   "source": [
    "x = []\n",
    "bins = []\n",
    "weights = []\n",
    "labels = []\n",
    "for i, entry in tqdm(enumerate(valid_sample_metadata[:-1])):\n",
    "    created_at = datetime.strptime(entry['repository']['created_at'], '%Y-%m-%dT%H:%M:%SZ')\n",
    "    labels.append(created_at.strftime('%Y-%m-%d'))\n",
    "    x.append(created_at.timestamp())\n",
    "    bins.append(created_at.timestamp())\n",
    "    weights.append(valid_sample_metadata[i+1]['github_id'] - entry['github_id'])"
   ]
  },
  {
   "cell_type": "code",
   "execution_count": 222,
   "metadata": {},
   "outputs": [
    {
     "data": {
      "image/png": "[encoded data removed]",
      "text/plain": [
       "<Figure size 864x648 with 2 Axes>"
      ]
     },
     "metadata": {
      "needs_background": "light"
     },
     "output_type": "display_data"
    }
   ],
   "source": [
    "ticks = [bins[0]]\n",
    "ticklabels = [labels[0]]\n",
    "log = int(math.log(len(bins), 2))\n",
    "for i in range(log-1, 0, -1):\n",
    "    idx = int(len(bins)/(2**i))\n",
    "    ticks.append(bins[idx])\n",
    "    ticklabels.append(labels[idx])\n",
    "ticks.append(bins[-1])\n",
    "ticklabels.append(labels[-1])\n",
    "\n",
    "timeline_ticks = [\n",
    "    datetime(2010, 7, 24).timestamp(),\n",
    "    datetime(2011, 4, 20).timestamp(),\n",
    "    datetime(2012, 1, 17).timestamp(),\n",
    "    datetime(2013, 1, 14).timestamp(),\n",
    "    datetime(2013, 12, 23).timestamp(),\n",
    "    datetime(2014, 3, 17).timestamp(),\n",
    "    datetime(2014, 10, 7).timestamp(),\n",
    "    datetime(2015, 3, 26).timestamp(),\n",
    "    datetime(2015, 9, 1).timestamp(),\n",
    "    datetime(2015, 12, 3).timestamp(),\n",
    "] + ticks[-3:]\n",
    "timeline_ticklabels = [\n",
    "    '1M repos',\n",
    "    '2M repos',\n",
    "    'Google joins',\n",
    "    '3M users',\n",
    "    '10M repos',\n",
    "    'Harassment',\n",
    "    'Student Pack',\n",
    "    'DDoS',\n",
    "    '~10M users',\n",
    "    'Apple joins',\n",
    "] + ticklabels[-3:]\n",
    "\n",
    "fig, ax = plt.subplots(1, 2, figsize=(12,9))\n",
    "_ = ax[0].hist(x=x, bins=bins, weights=weights, cumulative=False)\n",
    "ax[0].set_xlabel('Date')\n",
    "ax[0].set_ylabel('Number of repositories')\n",
    "ax[0].set_xticks(timeline_ticks)\n",
    "ax[0].set_xticklabels(timeline_ticklabels, rotation='vertical')\n",
    "\n",
    "_ = ax[1].hist(x=x, bins=bins, weights=weights, cumulative=True)\n",
    "ax[1].set_xlabel('Date')\n",
    "ax[1].set_ylabel('Number of repositories (cumulative)')\n",
    "ax[1].set_xticks(ticks)\n",
    "ax[1].set_xticklabels(ticklabels, rotation='vertical')\n",
    "\n",
    "plt.show()\n",
    "fig.savefig('rise-of-github.png')"
   ]
  }
 ],
 "metadata": {
  "kernelspec": {
   "display_name": "mirror",
   "language": "python",
   "name": "mirror"
  },
  "language_info": {
   "codemirror_mode": {
    "name": "ipython",
    "version": 3
   },
   "file_extension": ".py",
   "mimetype": "text/x-python",
   "name": "python",
   "nbconvert_exporter": "python",
   "pygments_lexer": "ipython3",
   "version": "3.8.1"
  }
 },
 "nbformat": 4,
 "nbformat_minor": 4
}
